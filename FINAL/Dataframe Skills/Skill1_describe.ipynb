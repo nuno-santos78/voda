{
 "cells": [
  {
   "cell_type": "markdown",
   "metadata": {},
   "source": [
    "# Skill 1\n",
    "#### Learning Describe function"
   ]
  },
  {
   "cell_type": "markdown",
   "metadata": {},
   "source": [
    "The entry point into all functionality in Spark is the SparkSession class. To create a basic SparkSession, just use SparkSession.builder:\n",
    "from pyspark.sql import SparkSession\n"
   ]
  },
  {
   "cell_type": "code",
   "execution_count": null,
   "metadata": {},
   "outputs": [],
   "source": [
    "from pyspark.sql import SparkSession\n",
    "spark = SparkSession.builder.appName('cloudanum').getOrCreate()"
   ]
  },
  {
   "cell_type": "markdown",
   "metadata": {},
   "source": [
    "Create Dataframe\n"
   ]
  },
  {
   "cell_type": "code",
   "execution_count": null,
   "metadata": {},
   "outputs": [],
   "source": [
    "    pairs = [(10,\"z1\"), (1,\"z2\"), (2,\"z3\"), (9,\"z4\"), (3,\"z5\"), (4,\"z6\"), (5,\"z7\"), (6,\"z8\"), (7,\"z9\")]\n",
    "    print(\"pairs = \", pairs)\n",
    "    df = spark.createDataFrame(pairs, [\"number\", \"name\"])\n",
    "    print(\"df.count(): \", df.count())\n",
    "    print(\"df.collect(): \", df.collect())\n",
    "    df.show()\n"
   ]
  },
  {
   "cell_type": "markdown",
   "metadata": {},
   "source": [
    " ### Using describe function\n",
    " \n",
    "    #========================================\n",
    "    # DataFrame.describe() action\n",
    "    #\n",
    "    # Description:\n",
    "    # Computes basic statistics for numeric and string columns.\n",
    "    # This include count, mean, stddev, min, and max. If no columns \n",
    "    # are given, this function computes statistics for all numerical \n",
    "    # or string columns.\n",
    "    #========================================\n",
    "-"
   ]
  },
  {
   "cell_type": "code",
   "execution_count": null,
   "metadata": {},
   "outputs": [],
   "source": [
    "    df.describe(['number']).show()    \n",
    "    #\n",
    "    df.describe().show()    \n"
   ]
  },
  {
   "cell_type": "code",
   "execution_count": null,
   "metadata": {},
   "outputs": [],
   "source": []
  }
 ],
 "metadata": {
  "kernelspec": {
   "display_name": "Python 3",
   "language": "python",
   "name": "python3"
  },
  "language_info": {
   "codemirror_mode": {
    "name": "ipython",
    "version": 3
   },
   "file_extension": ".py",
   "mimetype": "text/x-python",
   "name": "python",
   "nbconvert_exporter": "python",
   "pygments_lexer": "ipython3",
   "version": "3.7.3"
  }
 },
 "nbformat": 4,
 "nbformat_minor": 4
}
