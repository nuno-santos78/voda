{
 "cells": [
  {
   "cell_type": "markdown",
   "metadata": {},
   "source": [
    "# Skill 6\n",
    "#### Learning Spark SQL"
   ]
  },
  {
   "cell_type": "markdown",
   "metadata": {},
   "source": [
    "The entry point into all functionality in Spark is the SparkSession class. To create a basic SparkSession, just use SparkSession.builder:\n",
    "from pyspark.sql import SparkSession"
   ]
  },
  {
   "cell_type": "code",
   "execution_count": null,
   "metadata": {},
   "outputs": [],
   "source": [
    "# Get a Spark Session\n",
    "from pyspark.sql import SparkSession\n",
    "spark = SparkSession.builder.appName('cloudanum').getOrCreate()"
   ]
  },
  {
   "cell_type": "code",
   "execution_count": null,
   "metadata": {},
   "outputs": [],
   "source": [
    "    triplets = [(\"alex\",\"Ames\", 20),\\\n",
    "                (\"alex\", \"Sunnyvale\",30),\\\n",
    "                (\"alex\", \"Cupertino\", 40),\\\n",
    "                (\"mary\", \"Ames\", 35),\\\n",
    "                (\"mary\", \"Stanford\", 45),\\\n",
    "                (\"mary\", \"Campbell\", 55),\\\n",
    "                (\"jeff\", \"Ames\", 60),\\\n",
    "                (\"jeff\", \"Sunnyvale\", 70),\\\n",
    "                (\"jane\", \"Austin\", 80)]\n",
    "print(\"triplets = \", triplets)"
   ]
  },
  {
   "cell_type": "code",
   "execution_count": null,
   "metadata": {},
   "outputs": [],
   "source": [
    "    df = spark.createDataFrame(triplets, [\"name\", \"city\", \"age\"])\n",
    "    print(\"df.count(): \", df.count())\n",
    "    print(\"df.collect(): \", df.collect())\n",
    "    df.show()\n",
    "    df.printSchema()"
   ]
  },
  {
   "cell_type": "markdown",
   "metadata": {},
   "source": [
    "   #-----------------------------------------\n",
    "    # Register a DataFrame as a Table\n",
    "    #-----------------------------------------"
   ]
  },
  {
   "cell_type": "code",
   "execution_count": null,
   "metadata": {},
   "outputs": [],
   "source": [
    "df.createOrReplaceTempView(\"people\")"
   ]
  },
  {
   "cell_type": "markdown",
   "metadata": {},
   "source": [
    "    #-----------------------------------------\n",
    "    # Query: SELECT * FROM people\n",
    "    #-----------------------------------------"
   ]
  },
  {
   "cell_type": "code",
   "execution_count": null,
   "metadata": {},
   "outputs": [],
   "source": [
    "df2 = spark.sql(\"SELECT name, city, age FROM people\")\n",
    "df2.show()  "
   ]
  },
  {
   "cell_type": "markdown",
   "metadata": {},
   "source": [
    "    #-----------------------------------------\n",
    "    # Query: SELECT * FROM people where age > 62\n",
    "    #-----------------------------------------"
   ]
  },
  {
   "cell_type": "code",
   "execution_count": null,
   "metadata": {},
   "outputs": [],
   "source": [
    "df3 = spark.sql(\"SELECT name, city, age FROM people WHERE age > 62 \")\n",
    "df3.show()  "
   ]
  },
  {
   "cell_type": "markdown",
   "metadata": {},
   "source": [
    "    #-----------------------------------------\n",
    "    # Query: SELECT name, count(*) FROM people GROUP BY \"name\"\n",
    "    #-----------------------------------------"
   ]
  },
  {
   "cell_type": "code",
   "execution_count": null,
   "metadata": {},
   "outputs": [],
   "source": [
    "df4 = df.groupBy(['name']).count()    \n",
    "df4.show()"
   ]
  },
  {
   "cell_type": "markdown",
   "metadata": {},
   "source": [
    "    #-----------------------------------------\n",
    "    # Query: SELECT name, count(*) FROM people GROUP BY \"name\"\n",
    "    #-----------------------------------------"
   ]
  },
  {
   "cell_type": "code",
   "execution_count": null,
   "metadata": {},
   "outputs": [],
   "source": [
    "df5 = spark.sql(\"SELECT name, count(*) as namecount FROM people GROUP BY name\")   \n",
    "df5.show()\n",
    "       "
   ]
  },
  {
   "cell_type": "markdown",
   "metadata": {},
   "source": [
    "# To-do\n",
    "Consider the following dataframe"
   ]
  },
  {
   "cell_type": "code",
   "execution_count": null,
   "metadata": {},
   "outputs": [],
   "source": [
    "import pandas as pd\n",
    "df = spark.createDataFrame(pd.read_csv(\"https://storage.googleapis.com/neurals/data/taxi2.csv\",header='infer'))\n",
    "df.toPandas().head()"
   ]
  },
  {
   "cell_type": "markdown",
   "metadata": {},
   "source": [
    "Task 1: Can you filter out rows where passenger count is more than 4\n"
   ]
  },
  {
   "cell_type": "markdown",
   "metadata": {},
   "source": [
    "Task 2: Can you filter out rows where amount of fare is more than $15? How many such rows are there?"
   ]
  }
 ],
 "metadata": {
  "kernelspec": {
   "display_name": "Python 3",
   "language": "python",
   "name": "python3"
  },
  "language_info": {
   "codemirror_mode": {
    "name": "ipython",
    "version": 3
   },
   "file_extension": ".py",
   "mimetype": "text/x-python",
   "name": "python",
   "nbconvert_exporter": "python",
   "pygments_lexer": "ipython3",
   "version": "3.7.3"
  }
 },
 "nbformat": 4,
 "nbformat_minor": 4
}
