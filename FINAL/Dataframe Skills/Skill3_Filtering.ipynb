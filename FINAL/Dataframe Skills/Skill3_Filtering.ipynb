{
 "cells": [
  {
   "cell_type": "markdown",
   "metadata": {},
   "source": [
    "# Skill 3\n",
    "#### Learning how to filter rows"
   ]
  },
  {
   "cell_type": "markdown",
   "metadata": {},
   "source": [
    "The entry point into all functionality in Spark is the SparkSession class. To create a basic SparkSession, just use SparkSession.builder:\n",
    "from pyspark.sql import SparkSession"
   ]
  },
  {
   "cell_type": "code",
   "execution_count": null,
   "metadata": {},
   "outputs": [],
   "source": [
    "# Get a Spark Session\n",
    "from pyspark.sql import SparkSession\n",
    "spark = SparkSession.builder.appName('cloudanum').getOrCreate()"
   ]
  },
  {
   "cell_type": "code",
   "execution_count": null,
   "metadata": {},
   "outputs": [],
   "source": [
    "triplets = [(\"alex\",\"Ames\", 20),\\\n",
    "                (\"alex\", \"Sunnyvale\",30),\\\n",
    "                (\"alex\", \"Cupertino\", 40),\\\n",
    "                (\"mary\", \"Ames\", 35),\\\n",
    "                (\"mary\", \"Stanford\", 45),\\\n",
    "                (\"mary\", \"Campbell\", 55),\\\n",
    "                (\"jeff\", \"Ames\", 60),\\\n",
    "                (\"jeff\", \"Sunnyvale\", 70),\\\n",
    "                (\"jane\", \"Austin\", 80)]\n",
    "print(\"triplets = \", triplets)"
   ]
  },
  {
   "cell_type": "code",
   "execution_count": null,
   "metadata": {},
   "outputs": [],
   "source": []
  },
  {
   "cell_type": "code",
   "execution_count": null,
   "metadata": {},
   "outputs": [],
   "source": [
    "    df = spark.createDataFrame(triplets, [\"name\", \"city\", \"age\"])\n",
    "    print(\"df.count(): \", df.count())\n",
    "    print(\"df.collect(): \", df.collect())\n",
    "    df.show()\n",
    "    df.printSchema()"
   ]
  },
  {
   "cell_type": "markdown",
   "metadata": {},
   "source": [
    "    #========================================\n",
    "    # filter(condition)\n",
    "    # Filters rows using the given condition.\n",
    "    #\n",
    "    # where() is an alias for filter().\n",
    "    #========================================"
   ]
  },
  {
   "cell_type": "code",
   "execution_count": null,
   "metadata": {},
   "outputs": [],
   "source": []
  },
  {
   "cell_type": "code",
   "execution_count": null,
   "metadata": {},
   "outputs": [],
   "source": [
    "    df2 = df.filter(df.age > 50)\n",
    "    print(\"df2.count(): \", df2.count())\n",
    "    print(\"df2.collect(): \", df2.collect())\n",
    "    df2.show()\n",
    "    df2.printSchema()"
   ]
  },
  {
   "cell_type": "code",
   "execution_count": null,
   "metadata": {},
   "outputs": [],
   "source": []
  },
  {
   "cell_type": "code",
   "execution_count": null,
   "metadata": {},
   "outputs": [],
   "source": [
    "    df3 = df.filter(df.city.contains('me'))\n",
    "    print(\"df3.count(): \", df3.count())\n",
    "    print(\"df3.collect(): \", df3.collect())\n",
    "    df3.show()\n",
    "    df3.printSchema()"
   ]
  },
  {
   "cell_type": "markdown",
   "metadata": {},
   "source": [
    "# To-do\n",
    "Consider the following dataframe"
   ]
  },
  {
   "cell_type": "code",
   "execution_count": null,
   "metadata": {},
   "outputs": [],
   "source": [
    "import pandas as pd\n",
    "df = spark.createDataFrame(pd.read_csv(\"https://storage.googleapis.com/neurals/data/taxi2.csv\",header='infer'))\n",
    "df.toPandas().head()"
   ]
  },
  {
   "cell_type": "markdown",
   "metadata": {},
   "source": [
    "Task 1: Can you filter out rows where passenger count is more than 4\n"
   ]
  },
  {
   "cell_type": "markdown",
   "metadata": {},
   "source": [
    "Task 2: Can you filter out rows where amount of fare is more than $15? How many such rows are there?"
   ]
  }
 ],
 "metadata": {
  "kernelspec": {
   "display_name": "Python 3",
   "language": "python",
   "name": "python3"
  },
  "language_info": {
   "codemirror_mode": {
    "name": "ipython",
    "version": 3
   },
   "file_extension": ".py",
   "mimetype": "text/x-python",
   "name": "python",
   "nbconvert_exporter": "python",
   "pygments_lexer": "ipython3",
   "version": "3.7.3"
  }
 },
 "nbformat": 4,
 "nbformat_minor": 4
}
