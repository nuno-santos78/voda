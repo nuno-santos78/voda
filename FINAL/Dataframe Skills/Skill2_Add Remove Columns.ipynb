{
 "cells": [
  {
   "cell_type": "markdown",
   "metadata": {},
   "source": [
    "# Skill 2\n",
    "#### Add and Remove Columns"
   ]
  },
  {
   "cell_type": "markdown",
   "metadata": {},
   "source": [
    "The entry point into all functionality in Spark is the SparkSession class. To create a basic SparkSession, just use SparkSession.builder:\n",
    "from pyspark.sql import SparkSession"
   ]
  },
  {
   "cell_type": "code",
   "execution_count": null,
   "metadata": {},
   "outputs": [],
   "source": [
    "# Get a Spark Session\n",
    "from pyspark.sql import SparkSession\n",
    "spark = SparkSession.builder.appName('cloudanum').getOrCreate()"
   ]
  },
  {
   "cell_type": "code",
   "execution_count": null,
   "metadata": {},
   "outputs": [],
   "source": [
    "\n",
    "    triplets = [(\"alex\",\"Ames\", 20),\\\n",
    "                (\"alex\", \"Sunnyvale\",30),\\\n",
    "                (\"alex\", \"Cupertino\", 40),\\\n",
    "                (\"mary\", \"Ames\", 35),\\\n",
    "                (\"mary\", \"Stanford\", 45),\\\n",
    "                (\"mary\", \"Campbell\", 55),\\\n",
    "                (\"jeff\", \"Ames\", 60),\\\n",
    "                (\"jeff\", \"Sunnyvale\", 70),\\\n",
    "                (\"jane\", \"Austin\", 80)]"
   ]
  },
  {
   "cell_type": "markdown",
   "metadata": {},
   "source": [
    "Print the triplets\n"
   ]
  },
  {
   "cell_type": "code",
   "execution_count": null,
   "metadata": {},
   "outputs": [],
   "source": [
    "    print(\"triplets = \", triplets)\n",
    "    "
   ]
  },
  {
   "cell_type": "markdown",
   "metadata": {},
   "source": [
    "Create a new Dataframe"
   ]
  },
  {
   "cell_type": "code",
   "execution_count": null,
   "metadata": {},
   "outputs": [],
   "source": [
    "    df = spark.createDataFrame(triplets, [\"name\", \"city\", \"age\"])\n",
    "    print(\"df.count(): \", df.count())\n",
    "    print(\"df.collect(): \", df.collect())\n",
    "    df.show()\n",
    "    df.printSchema()"
   ]
  },
  {
   "cell_type": "markdown",
   "metadata": {},
   "source": [
    "    #========================================\n",
    "    # DataFrame.withColumn(colName, col)\n",
    "    #\n",
    "    # Returns a new DataFrame by adding a column \n",
    "    # or replacing the existing column that has \n",
    "    # the same name.\n",
    "    #\n",
    "    # The column expression must be an expression \n",
    "    # over this DataFrame; attempting to add a column \n",
    "    # from some other dataframe will raise an error.\n",
    "    #\n",
    "    # Parameters:\t\n",
    "    #   colName - string, name of the new column.\n",
    "    #   col - a Column expression for the new column.\n",
    "    #\n",
    "    #========================================"
   ]
  },
  {
   "cell_type": "code",
   "execution_count": null,
   "metadata": {},
   "outputs": [],
   "source": [
    "    df2 = df.withColumn('age2', df.age + 2)\n",
    "    df2.show()\n",
    "    df2.printSchema()  "
   ]
  },
  {
   "cell_type": "markdown",
   "metadata": {},
   "source": [
    "    #========================================\n",
    "    # DataFrame.drop(*col)\n",
    "    #\n",
    "    # drop(*cols)\n",
    "    # Returns a new DataFrame that drops the specified column. \n",
    "    # This is a no-op if schema doesn't contain the given column \n",
    "    # name(s).\n",
    "    #\n",
    "    # Parameters:\t\n",
    "    #    cols - a string name of the column to drop, or a \n",
    "    #           Column to drop, or a list of string name of \n",
    "    #           the columns to drop.\n",
    "    #\n",
    "    #========================================"
   ]
  },
  {
   "cell_type": "code",
   "execution_count": null,
   "metadata": {},
   "outputs": [],
   "source": [
    "    #-----------------------------------------\n",
    "    # drop a column named 'city'\n",
    "    #-----------------------------------------\n",
    "    df2 = df.drop('city')\n",
    "    df2.show()\n",
    "    df2.printSchema()  "
   ]
  },
  {
   "cell_type": "markdown",
   "metadata": {},
   "source": [
    "## To do"
   ]
  },
  {
   "cell_type": "code",
   "execution_count": null,
   "metadata": {},
   "outputs": [],
   "source": [
    "import pandas as pd\n",
    "df = spark.createDataFrame(pd.read_csv(\"https://storage.googleapis.com/neurals/data/taxi2.csv\",header='infer'))\n",
    "df.toPandas().head()"
   ]
  },
  {
   "cell_type": "markdown",
   "metadata": {},
   "source": [
    "### Task 1: \n",
    "The trip distance is in miles.\n",
    "Can you add a new column name trip_distance_km that converts miles in kms?\n",
    " "
   ]
  },
  {
   "cell_type": "markdown",
   "metadata": {},
   "source": [
    "### Task 2:\n"
   ]
  },
  {
   "cell_type": "code",
   "execution_count": null,
   "metadata": {},
   "outputs": [],
   "source": [
    "Can you remove the original trip_distance column?"
   ]
  },
  {
   "cell_type": "code",
   "execution_count": null,
   "metadata": {},
   "outputs": [],
   "source": [
    "Can you remove the original trip_distance column"
   ]
  }
 ],
 "metadata": {
  "kernelspec": {
   "display_name": "Python 3",
   "language": "python",
   "name": "python3"
  },
  "language_info": {
   "codemirror_mode": {
    "name": "ipython",
    "version": 3
   },
   "file_extension": ".py",
   "mimetype": "text/x-python",
   "name": "python",
   "nbconvert_exporter": "python",
   "pygments_lexer": "ipython3",
   "version": "3.7.3"
  }
 },
 "nbformat": 4,
 "nbformat_minor": 4
}
