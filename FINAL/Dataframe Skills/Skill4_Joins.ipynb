{
 "cells": [
  {
   "cell_type": "markdown",
   "metadata": {},
   "source": [
    "# Skill 4\n",
    "#### Learning Table Joins"
   ]
  },
  {
   "cell_type": "markdown",
   "metadata": {},
   "source": [
    "The entry point into all functionality in Spark is the SparkSession class. To create a basic SparkSession, just use SparkSession.builder:\n",
    "from pyspark.sql import SparkSession"
   ]
  },
  {
   "cell_type": "code",
   "execution_count": null,
   "metadata": {},
   "outputs": [],
   "source": [
    "# Get a Spark Session\n",
    "from pyspark.sql import SparkSession\n",
    "spark = SparkSession.builder.appName('cloudanum').getOrCreate()"
   ]
  },
  {
   "cell_type": "code",
   "execution_count": null,
   "metadata": {},
   "outputs": [],
   "source": [
    "triplets = [(\"alex\",\"Ames\", 20),\\\n",
    "                (\"alex\", \"Sunnyvale\",30),\\\n",
    "                (\"alex\", \"Cupertino\", 40),\\\n",
    "                (\"mary\", \"Ames\", 35),\\\n",
    "                (\"mary\", \"Stanford\", 45),\\\n",
    "                (\"mary\", \"Campbell\", 55),\\\n",
    "                (\"jeff\", \"Ames\", 60),\\\n",
    "                (\"jeff\", \"Sunnyvale\", 70),\\\n",
    "                (\"jane\", \"Austin\", 80)]\n",
    "                \n",
    "    #\n",
    "print(\"triplets = \", triplets)"
   ]
  },
  {
   "cell_type": "code",
   "execution_count": null,
   "metadata": {},
   "outputs": [],
   "source": []
  },
  {
   "cell_type": "code",
   "execution_count": null,
   "metadata": {},
   "outputs": [],
   "source": [
    "df = spark.createDataFrame(triplets, [\"name\", \"city\", \"age\"])\n",
    "print(\"df.count(): \", df.count())\n",
    "print(\"df.collect(): \", df.collect())\n",
    "df.show()\n",
    "df.printSchema()"
   ]
  },
  {
   "cell_type": "code",
   "execution_count": null,
   "metadata": {},
   "outputs": [],
   "source": []
  },
  {
   "cell_type": "code",
   "execution_count": null,
   "metadata": {},
   "outputs": [],
   "source": [
    "triplets2 = [(\"david\", \"software\"),\\\n",
    "                 (\"david\", \"business\"),\\\n",
    "                 (\"mary\", \"marketing\"),\\\n",
    "                 (\"mary\", \"sales\"),\\\n",
    "                 (\"jane\", \"genomics\")]\n",
    "                \n",
    "    #\n",
    "print(\"triplets2 = \", triplets2)\n",
    "df2 = spark.createDataFrame(triplets2, [\"name\", \"dept\"])"
   ]
  },
  {
   "cell_type": "code",
   "execution_count": null,
   "metadata": {},
   "outputs": [],
   "source": []
  },
  {
   "cell_type": "code",
   "execution_count": null,
   "metadata": {},
   "outputs": [],
   "source": [
    "print(\"df2.count(): \", df2.count())\n",
    "print(\"df2.collect(): \", df2.collect())\n",
    "df2.show()\n",
    "df2.printSchema()"
   ]
  },
  {
   "cell_type": "markdown",
   "metadata": {},
   "source": [
    "\n",
    "#### Cross Join"
   ]
  },
  {
   "cell_type": "code",
   "execution_count": null,
   "metadata": {},
   "outputs": [],
   "source": [
    "joined = df.join(df2, df.name == df2.name, 'cross')\n",
    "joined.show()\n",
    "joined.printSchema()  \n",
    "    "
   ]
  },
  {
   "cell_type": "markdown",
   "metadata": {},
   "source": [
    "#### Inner Join"
   ]
  },
  {
   "cell_type": "code",
   "execution_count": null,
   "metadata": {},
   "outputs": [],
   "source": [
    "joined = df.join(df2, df.name == df2.name, 'inner')\n",
    "joined.show()\n",
    "joined.printSchema() "
   ]
  },
  {
   "cell_type": "markdown",
   "metadata": {},
   "source": [
    "#### Left Join"
   ]
  },
  {
   "cell_type": "code",
   "execution_count": null,
   "metadata": {},
   "outputs": [],
   "source": [
    "joined = df.join(df2, df.name == df2.name, 'left')\n",
    "joined.show()\n",
    "joined.printSchema()  "
   ]
  },
  {
   "cell_type": "markdown",
   "metadata": {},
   "source": [
    "#### Right Join\n"
   ]
  },
  {
   "cell_type": "code",
   "execution_count": null,
   "metadata": {},
   "outputs": [],
   "source": [
    "joined = df.join(df2, df.name == df2.name, 'right')\n",
    "joined.show()\n",
    "joined.printSchema()  "
   ]
  },
  {
   "cell_type": "code",
   "execution_count": null,
   "metadata": {},
   "outputs": [],
   "source": []
  }
 ],
 "metadata": {
  "kernelspec": {
   "display_name": "Python 3",
   "language": "python",
   "name": "python3"
  },
  "language_info": {
   "codemirror_mode": {
    "name": "ipython",
    "version": 3
   },
   "file_extension": ".py",
   "mimetype": "text/x-python",
   "name": "python",
   "nbconvert_exporter": "python",
   "pygments_lexer": "ipython3",
   "version": "3.7.3"
  }
 },
 "nbformat": 4,
 "nbformat_minor": 4
}
